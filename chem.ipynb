{
 "cells": [
  {
   "cell_type": "code",
   "execution_count": null,
   "id": "cfdd5df7-83d9-4e70-8318-46d7af2f42bd",
   "metadata": {},
   "outputs": [],
   "source": []
  }
 ],
 "metadata": {
  "kernelspec": {
   "display_name": "Python [conda env:.conda-wave_animated_plots]",
   "language": "python",
   "name": "conda-env-.conda-wave_animated_plots-py"
  },
  "language_info": {
   "codemirror_mode": {
    "name": "ipython",
    "version": 3
   },
   "file_extension": ".py",
   "mimetype": "text/x-python",
   "name": "python",
   "nbconvert_exporter": "python",
   "pygments_lexer": "ipython3",
   "version": "3.12.12"
  }
 },
 "nbformat": 4,
 "nbformat_minor": 5
}
